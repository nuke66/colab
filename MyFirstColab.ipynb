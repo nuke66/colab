{
  "nbformat": 4,
  "nbformat_minor": 0,
  "metadata": {
    "colab": {
      "provenance": [],
      "toc_visible": true,
      "authorship_tag": "ABX9TyNLDySHnvG/OoCr87obvCgH",
      "include_colab_link": true
    },
    "kernelspec": {
      "name": "python3",
      "display_name": "Python 3"
    },
    "language_info": {
      "name": "python"
    }
  },
  "cells": [
    {
      "cell_type": "markdown",
      "metadata": {
        "id": "view-in-github",
        "colab_type": "text"
      },
      "source": [
        "<a href=\"https://colab.research.google.com/github/nuke66/colab/blob/develop/MyFirstColab.ipynb\" target=\"_parent\"><img src=\"https://colab.research.google.com/assets/colab-badge.svg\" alt=\"Open In Colab\"/></a>"
      ]
    },
    {
      "cell_type": "markdown",
      "source": [
        "# My First Colab Notebook\n",
        "\n",
        "My first go at creating a notebook in Google Colab\n",
        "\n"
      ],
      "metadata": {
        "id": "9TLF_J40rbRF"
      }
    },
    {
      "cell_type": "markdown",
      "source": [
        "# New Section"
      ],
      "metadata": {
        "id": "qOw3r2SkvWnA"
      }
    },
    {
      "cell_type": "markdown",
      "source": [
        "# Exercises\n",
        "\n",
        "\n",
        "Example of justifying text using the print()"
      ],
      "metadata": {
        "id": "pczzJjvyrb9K"
      }
    },
    {
      "cell_type": "code",
      "source": [
        "s=\"Python\"\n",
        "print(s.center(15))     # center\n",
        "print(s.center(15,'-')) # center and fill\n",
        "print(s.ljust(15))      # left adjust\n",
        "print(s.rjust(15))      # right adjust\n",
        "print(s.rjust(15,\"~\"))  # right adjust and fill"
      ],
      "metadata": {
        "colab": {
          "base_uri": "https://localhost:8080/"
        },
        "id": "S4bGQZpCrvx7",
        "outputId": "2a2ee94c-8708-4b0e-bbc4-3c6b4c5d9a70"
      },
      "execution_count": null,
      "outputs": [
        {
          "output_type": "stream",
          "name": "stdout",
          "text": [
            "     Python    \n",
            "-----Python----\n",
            "Python         \n",
            "         Python\n",
            "~~~~~~~~~Python\n"
          ]
        }
      ]
    },
    {
      "cell_type": "markdown",
      "source": [
        "Now I have updated the Gist"
      ],
      "metadata": {
        "id": "WLHIf9b5tGbX"
      }
    }
  ]
}